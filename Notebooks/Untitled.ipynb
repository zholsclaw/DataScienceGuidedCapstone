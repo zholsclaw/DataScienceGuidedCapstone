{
 "cells": [
  {
   "cell_type": "markdown",
   "metadata": {},
   "source": [
    "**Q: 3** Write a summary statement that highlights the key processes and findings from this notebook. This should include information such as the original number of rows in the data, whether our own resort was actually present etc. What columns, if any, have been removed? Any rows? Summarise the reasons why. Were any other issues found? What remedial actions did you take? State where you are in the project. Can you confirm what the target feature is for your desire to predict ticket price? How many rows were left in the data? Hint: this is a great opportunity to reread your notebook, check all cells have been executed in order and from a \"blank slate\" (restarting the kernel will do this), and that your workflow makes sense and follows a logical pattern. As you do this you can pull out salient information for inclusion in this summary. Thus, this section will provide an important overview of \"what\" and \"why\" without having to dive into the \"how\" or any unproductive or inconclusive steps along the way."
   ]
  },
  {
   "cell_type": "markdown",
   "metadata": {},
   "source": [
    "**A: 3** I started this process with 330 rows by 27 columns of data. Our resort 'Big Mountain Resort' was included in the data. I first checked and saw that there were no missing values for our resorts data.\n",
    "\n",
    "I created a bar graph of average weekday and weekend prices grouped by state and then created a boxplot of these ticket prices for each state. These graps showed a clear differen in pricing when compared by state. Some states showing larger variance then others in pricing as well as the differenct in weekend and weekday pricing. For our resorts state of Montana I noticed no change in pricing between weekend and weedkay ticket prices as well as a relatively small varience in pricing overall.\n",
    "\n",
    "I then created bar graphs to represent each column of data. This allowed me to identify some erronous data points that were much higher then other values. I cross referenced these datapoints and corrected them as needed. These bar graphs also allowed me to identify multiple columns of data that will most likely have no value in my analysis due to how the data is clustered for the majority of entries. For instance, I removed the fastEight column since all values except one were either missing or 0. I also identified a confusing yearsOpen value and subsequently removed this entry from the data table.\n",
    "\n",
    "I also removed all resorts that had null values for both weekend and weekday pricing due to the nature of this analysis. \n",
    "\n",
    "Next I gathered data for the population and size of each state which I then added to the cleaned data set. This will be important in determining the relationship between ticket pricing, population density, and other factors.\n",
    "\n",
    "After cleaning the data I ended up with a dataset of 277 rows by 25 columns.\n",
    "\n",
    "I created a scatterplot of each resorts weekday and weekend prices and saw that many resorts charge an equal rate but some resorts, primarily those with ticket pricing under $100 charge a premium on the weekend. For our resorts state of Montana I see that all resorts charge the same on weekdays and the weekend. From this observation I checked which entries of weekend pricing and weekday pricing had the most null values. Since weekend prices had the least missing values I decided to drop weekday prices altogether. I then dropped all resorts which were missing weekend prices.  \n",
    "\n",
    "I still cannot confirm which features will help me predict ticket pricing but will do this shortly as the data is now more succinct!"
   ]
  }
 ],
 "metadata": {
  "kernelspec": {
   "display_name": "Python 3",
   "language": "python",
   "name": "python3"
  },
  "language_info": {
   "codemirror_mode": {
    "name": "ipython",
    "version": 3
   },
   "file_extension": ".py",
   "mimetype": "text/x-python",
   "name": "python",
   "nbconvert_exporter": "python",
   "pygments_lexer": "ipython3",
   "version": "3.7.0"
  }
 },
 "nbformat": 4,
 "nbformat_minor": 2
}
